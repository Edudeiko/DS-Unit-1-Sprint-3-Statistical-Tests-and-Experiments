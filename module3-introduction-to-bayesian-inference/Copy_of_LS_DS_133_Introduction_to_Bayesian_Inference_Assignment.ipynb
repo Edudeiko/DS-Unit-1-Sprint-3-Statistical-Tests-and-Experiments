{
  "nbformat": 4,
  "nbformat_minor": 0,
  "metadata": {
    "colab": {
      "name": "Copy of LS_DS_133_Introduction_to_Bayesian_Inference_Assignment.ipynb",
      "provenance": [],
      "include_colab_link": true
    },
    "kernelspec": {
      "name": "python3",
      "display_name": "Python 3"
    }
  },
  "cells": [
    {
      "cell_type": "markdown",
      "metadata": {
        "id": "view-in-github",
        "colab_type": "text"
      },
      "source": [
        "<a href=\"https://colab.research.google.com/github/Edudeiko/DS-Unit-1-Sprint-3-Statistical-Tests-and-Experiments/blob/master/module3-introduction-to-bayesian-inference/Copy_of_LS_DS_133_Introduction_to_Bayesian_Inference_Assignment.ipynb\" target=\"_parent\"><img src=\"https://colab.research.google.com/assets/colab-badge.svg\" alt=\"Open In Colab\"/></a>"
      ]
    },
    {
      "cell_type": "markdown",
      "metadata": {
        "id": "H7OLbevlbd_Z",
        "colab_type": "text"
      },
      "source": [
        "# Lambda School Data Science Module 133\n",
        "\n",
        "## Introduction to Bayesian Inference\n",
        "\n",
        "\n"
      ]
    },
    {
      "cell_type": "markdown",
      "metadata": {
        "id": "P-DzzRk5bf0z",
        "colab_type": "text"
      },
      "source": [
        "## Assignment - Code it up!\n",
        "\n",
        "Most of the above was pure math - now write Python code to reproduce the results! This is purposefully open ended - you'll have to think about how you should represent probabilities and events. You can and should look things up, and as a stretch goal - refactor your code into helpful reusable functions!\n",
        "\n",
        "Specific goals/targets:\n",
        "\n",
        "1. Write a function `def prob_drunk_given_positive(prob_drunk_prior, prob_positive, prob_positive_drunk)` that reproduces the example from lecture, and use it to calculate and visualize a range of situations\n",
        "2. Explore `scipy.stats.bayes_mvs` - read its documentation, and experiment with it on data you've tested in other ways earlier this week\n",
        "3. Create a visualization comparing the results of a Bayesian approach to a traditional/frequentist approach\n",
        "4. In your own words, summarize the difference between Bayesian and Frequentist statistics\n",
        "\n",
        "If you're unsure where to start, check out [this blog post of Bayes theorem with Python](https://dataconomy.com/2015/02/introduction-to-bayes-theorem-with-python/) - you could and should create something similar!\n",
        "\n",
        "Stretch goals:\n",
        "\n",
        "- Apply a Bayesian technique to a problem you previously worked (in an assignment or project work) on from a frequentist (standard) perspective\n",
        "- Check out [PyMC3](https://docs.pymc.io/) (note this goes beyond hypothesis tests into modeling) - read the guides and work through some examples\n",
        "- Take PyMC3 further - see if you can build something with it!"
      ]
    },
    {
      "cell_type": "code",
      "metadata": {
        "id": "oAzD0hUfrHYL",
        "colab_type": "code",
        "colab": {}
      },
      "source": [
        "import numpy as np\n",
        "from scipy import stats"
      ],
      "execution_count": 0,
      "outputs": []
    },
    {
      "cell_type": "code",
      "metadata": {
        "id": "3VFIjO6cdmKD",
        "colab_type": "code",
        "colab": {
          "base_uri": "https://localhost:8080/",
          "height": 34
        },
        "outputId": "d0a4bbcb-4362-455d-f44b-8b5604cc48fb"
      },
      "source": [
        "(1*0.001)/0.08"
      ],
      "execution_count": 25,
      "outputs": [
        {
          "output_type": "execute_result",
          "data": {
            "text/plain": [
              "0.0125"
            ]
          },
          "metadata": {
            "tags": []
          },
          "execution_count": 25
        }
      ]
    },
    {
      "cell_type": "code",
      "metadata": {
        "id": "U8n0agl1rKfs",
        "colab_type": "code",
        "colab": {}
      },
      "source": [
        "def prob_drunk_given_positive(prob_drunk_prior, prob_positive, prob_positive_drunk):\n",
        "  return (prob_positive_drunk * prob_drunk_prior) / prob_positive"
      ],
      "execution_count": 0,
      "outputs": []
    },
    {
      "cell_type": "code",
      "metadata": {
        "id": "5rKjIhbyseSC",
        "colab_type": "code",
        "colab": {
          "base_uri": "https://localhost:8080/",
          "height": 34
        },
        "outputId": "c11eab35-5d6e-4a21-89bc-3b41dc6068da"
      },
      "source": [
        "prob_drunk_given_positive(0.001, 0.08, 1)"
      ],
      "execution_count": 34,
      "outputs": [
        {
          "output_type": "execute_result",
          "data": {
            "text/plain": [
              "0.0125"
            ]
          },
          "metadata": {
            "tags": []
          },
          "execution_count": 34
        }
      ]
    },
    {
      "cell_type": "code",
      "metadata": {
        "id": "Fq20RsBZuZiY",
        "colab_type": "code",
        "colab": {}
      },
      "source": [
        ""
      ],
      "execution_count": 0,
      "outputs": []
    },
    {
      "cell_type": "code",
      "metadata": {
        "id": "xpVhZyUnbf7o",
        "colab_type": "code",
        "colab": {
          "base_uri": "https://localhost:8080/",
          "height": 34
        },
        "outputId": "a464377f-2bb7-45c9-bf9a-da81bc480264"
      },
      "source": [
        "drunk = np.random.randint(2, size=1000)\n",
        "np.mean(drunk)"
      ],
      "execution_count": 13,
      "outputs": [
        {
          "output_type": "execute_result",
          "data": {
            "text/plain": [
              "0.483"
            ]
          },
          "metadata": {
            "tags": []
          },
          "execution_count": 13
        }
      ]
    },
    {
      "cell_type": "code",
      "metadata": {
        "id": "QKiVpP0gkUjK",
        "colab_type": "code",
        "colab": {
          "base_uri": "https://localhost:8080/",
          "height": 34
        },
        "outputId": "fec7b491-a270-4bab-e53d-683495cfddf4"
      },
      "source": [
        "bernoulli_drunk = np.random.binomial(n=1, p=.5, size=1000)\n",
        "np.mean(bernoulli_drunk)"
      ],
      "execution_count": 14,
      "outputs": [
        {
          "output_type": "execute_result",
          "data": {
            "text/plain": [
              "0.524"
            ]
          },
          "metadata": {
            "tags": []
          },
          "execution_count": 14
        }
      ]
    },
    {
      "cell_type": "code",
      "metadata": {
        "id": "2vgUwjfdklHe",
        "colab_type": "code",
        "colab": {}
      },
      "source": [
        ""
      ],
      "execution_count": 0,
      "outputs": []
    },
    {
      "cell_type": "code",
      "metadata": {
        "id": "gTIypYkvT-gV",
        "colab_type": "code",
        "colab": {}
      },
      "source": [
        "def get_outcomes(sample_space, f_name='', e_name=''):\n",
        "    outcomes = 0\n",
        "    for e_k, e_v in sample_space.items():\n",
        "        if f_name=='' or f_name==e_k:\n",
        "            for se_k, se_v in e_v.items():\n",
        "                if e_name!='' and se_k == e_name:\n",
        "                    outcomes+=se_v\n",
        "                elif e_name=='':\n",
        "                    outcomes+=se_v\n",
        "    return outcomes"
      ],
      "execution_count": 0,
      "outputs": []
    },
    {
      "cell_type": "code",
      "metadata": {
        "id": "keSX9N2qUFnE",
        "colab_type": "code",
        "colab": {}
      },
      "source": [
        "def bayes_theorem(prior, false_neg, false_pos, num_iter):\n",
        "  posterior_list = []\n",
        "  for i in range(num_iter):\n",
        "    posterior = 0 # write your code here\n",
        "    posterior_list.append(posterior)\n",
        "  return posterior_list"
      ],
      "execution_count": 0,
      "outputs": []
    },
    {
      "cell_type": "code",
      "metadata": {
        "id": "kJczoHD0TP8L",
        "colab_type": "code",
        "colab": {}
      },
      "source": [
        "#Bayes Theorem\n",
        "\n",
        "def get_outcomes(sample_space, f_name='', e_name=''):\n",
        "    outcomes = 0\n",
        "    for e_k, e_v in sample_space.items():\n",
        "        if f_name=='' or f_name==e_k:\n",
        "            for se_k, se_v in e_v.items():\n",
        "                if e_name!='' and se_k == e_name:\n",
        "                    outcomes+=se_v\n",
        "                elif e_name=='':\n",
        "                    outcomes+=se_v\n",
        "    return outcomes\n",
        "\n",
        "def p(sample_space, f_name):\n",
        "    return get_outcomes(sample_space, f_name) / get_outcomes(sample_space, '', '')\n",
        "\n",
        "def p_inters(sample_space, f_name, e_name):\n",
        "    return get_outcomes(sample_space, f_name, e_name) / get_outcomes(sample_space, '', '')\n",
        "\n",
        "def p_conditional(sample_space, f_name, e_name):\n",
        "    return p_inters(sample_space, f_name, e_name) / p(sample_space, f_name)\n",
        "\n",
        "def bayes(sample_space, f, given_e):\n",
        "    sum = 0;\n",
        "    for e_k, e_v in sample_space.items():\n",
        "        sum+=p(sample_space, e_k) * p_conditional(sample_space, e_k, given_e)\n",
        "    return p(sample_space, f) * p_conditional(sample_space, f, given_e) / sum\n",
        "\n",
        "sample_space = {'UK':{'Boy':10, 'Girl':20},\n",
        "                'FR':{'Boy':10, 'Girl':10},\n",
        "                'CA':{'Boy':10, 'Girl':30}}\n",
        "\n",
        "print('Probability of being from FR:', p(sample_space, 'FR'))\n",
        "print('Probability to be French Boy:', p_inters(sample_space, 'FR', 'Boy'))\n",
        "print('Probability of being a Boy given a person is from FR:', p_conditional(sample_space, 'FR', 'Boy'))\n",
        "print('Probability to be from France given person is Boy:', bayes(sample_space, 'FR', 'Boy'))\n",
        "\n",
        "sample_space = {'Grow' :{'Up':160, 'Down':40},\n",
        "                'Slows':{'Up':30, 'Down':70}}\n",
        "\n",
        "print('Probability economy is growing when stock is Up:', bayes(sample_space, 'Grow', 'Up'))"
      ],
      "execution_count": 0,
      "outputs": []
    },
    {
      "cell_type": "markdown",
      "metadata": {
        "id": "uWgWjp3PQ3Sq",
        "colab_type": "text"
      },
      "source": [
        "## Resources"
      ]
    },
    {
      "cell_type": "markdown",
      "metadata": {
        "id": "QRgHqmYIQ9qn",
        "colab_type": "text"
      },
      "source": [
        "- [Worked example of Bayes rule calculation](https://en.wikipedia.org/wiki/Bayes'_theorem#Examples) (helpful as it fully breaks out the denominator)\n",
        "- [Source code for mvsdist in scipy](https://github.com/scipy/scipy/blob/90534919e139d2a81c24bf08341734ff41a3db12/scipy/stats/morestats.py#L139)"
      ]
    }
  ]
}